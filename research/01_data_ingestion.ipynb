{
 "cells": [
  {
   "cell_type": "code",
   "execution_count": 1,
   "metadata": {},
   "outputs": [],
   "source": [
    "import os"
   ]
  },
  {
   "cell_type": "code",
   "execution_count": 2,
   "metadata": {},
   "outputs": [
    {
     "data": {
      "text/plain": [
       "'d:\\\\Text-Summarizer-Project\\\\research'"
      ]
     },
     "execution_count": 2,
     "metadata": {},
     "output_type": "execute_result"
    }
   ],
   "source": [
    "%pwd"
   ]
  },
  {
   "cell_type": "code",
   "execution_count": 3,
   "metadata": {},
   "outputs": [],
   "source": [
    "os.chdir('../')"
   ]
  },
  {
   "cell_type": "code",
   "execution_count": 4,
   "metadata": {},
   "outputs": [
    {
     "data": {
      "text/plain": [
       "'d:\\\\Text-Summarizer-Project'"
      ]
     },
     "execution_count": 4,
     "metadata": {},
     "output_type": "execute_result"
    }
   ],
   "source": [
    "%pwd"
   ]
  },
  {
   "cell_type": "code",
   "execution_count": 5,
   "metadata": {},
   "outputs": [],
   "source": [
    "from dataclasses import dataclass\n",
    "from pathlib import Path\n",
    "\n",
    "@dataclass(frozen=True)\n",
    "\n",
    "class DataIngestionConfig:\n",
    "    root_dir: Path\n",
    "    source_URL: str\n",
    "    local_data_file: Path\n",
    "    unzip_dir: Path"
   ]
  },
  {
   "cell_type": "code",
   "execution_count": 6,
   "metadata": {},
   "outputs": [],
   "source": [
    "import sys\n",
    "sys.path.append(\"D:\\Text-Summarizer-Project\\src\\TextSummarizer\")\n"
   ]
  },
  {
   "cell_type": "code",
   "execution_count": 7,
   "metadata": {},
   "outputs": [
    {
     "name": "stdout",
     "output_type": "stream",
     "text": [
      "Requirement already satisfied: TextSummarizer in d:\\text-summarizer-project (0.0.0)\n"
     ]
    }
   ],
   "source": [
    "!pip install TextSummarizer"
   ]
  },
  {
   "cell_type": "code",
   "execution_count": 9,
   "metadata": {},
   "outputs": [],
   "source": [
    "from src.TextSummarizer.constants import *"
   ]
  },
  {
   "cell_type": "code",
   "execution_count": 13,
   "metadata": {},
   "outputs": [
    {
     "name": "stdout",
     "output_type": "stream",
     "text": [
      "Requirement already satisfied: boxsdk in c:\\users\\preet\\anaconda3\\envs\\texts\\lib\\site-packages (3.9.1)\n",
      "Requirement already satisfied: attrs>=17.3.0 in c:\\users\\preet\\anaconda3\\envs\\texts\\lib\\site-packages (from boxsdk) (23.1.0)\n",
      "Requirement already satisfied: urllib3<2 in c:\\users\\preet\\anaconda3\\envs\\texts\\lib\\site-packages (from boxsdk) (1.26.16)\n",
      "Requirement already satisfied: requests<3,>=2.4.3 in c:\\users\\preet\\anaconda3\\envs\\texts\\lib\\site-packages (from boxsdk) (2.31.0)\n",
      "Requirement already satisfied: requests-toolbelt>=0.4.0 in c:\\users\\preet\\anaconda3\\envs\\texts\\lib\\site-packages (from boxsdk) (1.0.0)\n",
      "Requirement already satisfied: python-dateutil in c:\\users\\preet\\anaconda3\\envs\\texts\\lib\\site-packages (from boxsdk) (2.8.2)\n",
      "Requirement already satisfied: charset-normalizer<4,>=2 in c:\\users\\preet\\anaconda3\\envs\\texts\\lib\\site-packages (from requests<3,>=2.4.3->boxsdk) (3.2.0)\n",
      "Requirement already satisfied: idna<4,>=2.5 in c:\\users\\preet\\anaconda3\\envs\\texts\\lib\\site-packages (from requests<3,>=2.4.3->boxsdk) (3.4)\n",
      "Requirement already satisfied: certifi>=2017.4.17 in c:\\users\\preet\\anaconda3\\envs\\texts\\lib\\site-packages (from requests<3,>=2.4.3->boxsdk) (2023.7.22)\n",
      "Requirement already satisfied: six>=1.5 in c:\\users\\preet\\anaconda3\\envs\\texts\\lib\\site-packages (from python-dateutil->boxsdk) (1.16.0)\n",
      "Note: you may need to restart the kernel to use updated packages.\n"
     ]
    }
   ],
   "source": [
    "%pip install boxsdk"
   ]
  },
  {
   "cell_type": "code",
   "execution_count": 26,
   "metadata": {},
   "outputs": [
    {
     "name": "stdout",
     "output_type": "stream",
     "text": [
      "Requirement already satisfied: python-box in c:\\users\\preet\\anaconda3\\envs\\texts\\lib\\site-packages (7.1.1)\n",
      "Note: you may need to restart the kernel to use updated packages.\n",
      "Requirement already satisfied: PyYAML in c:\\users\\preet\\anaconda3\\envs\\texts\\lib\\site-packages (6.0.1)\n",
      "Note: you may need to restart the kernel to use updated packages.\n",
      "Requirement already satisfied: ensure in c:\\users\\preet\\anaconda3\\envs\\texts\\lib\\site-packages (1.0.3)\n",
      "Requirement already satisfied: six>=1.11.0 in c:\\users\\preet\\anaconda3\\envs\\texts\\lib\\site-packages (from ensure) (1.16.0)\n",
      "Note: you may need to restart the kernel to use updated packages.\n"
     ]
    }
   ],
   "source": [
    "%pip install --upgrade python-box \n",
    "%pip install PyYAML\n",
    "%pip install ensure"
   ]
  },
  {
   "cell_type": "code",
   "execution_count": 27,
   "metadata": {},
   "outputs": [],
   "source": [
    "from src.TextSummarizer.utils.common import read_yaml, create_dir"
   ]
  },
  {
   "cell_type": "code",
   "execution_count": 28,
   "metadata": {},
   "outputs": [],
   "source": [
    "class ConfigurationManager:\n",
    "    def __init__(\n",
    "        self,\n",
    "        config_filepath = CONFIG_FILE_PATH,\n",
    "        params_filepath = PARAMS_FILE_PATH):\n",
    "\n",
    "        self.config=read_yaml(config_filepath)\n",
    "        self.params=read_yaml(params_filepath)\n",
    "        \n",
    "        create_dir([self.config.artifacts_root])\n",
    "\n",
    "        "
   ]
  },
  {
   "cell_type": "code",
   "execution_count": null,
   "metadata": {},
   "outputs": [],
   "source": []
  },
  {
   "cell_type": "code",
   "execution_count": null,
   "metadata": {},
   "outputs": [],
   "source": []
  },
  {
   "cell_type": "code",
   "execution_count": null,
   "metadata": {},
   "outputs": [],
   "source": []
  },
  {
   "cell_type": "code",
   "execution_count": null,
   "metadata": {},
   "outputs": [],
   "source": []
  }
 ],
 "metadata": {
  "kernelspec": {
   "display_name": "TextS",
   "language": "python",
   "name": "python3"
  },
  "language_info": {
   "codemirror_mode": {
    "name": "ipython",
    "version": 3
   },
   "file_extension": ".py",
   "mimetype": "text/x-python",
   "name": "python",
   "nbconvert_exporter": "python",
   "pygments_lexer": "ipython3",
   "version": "3.11.4"
  },
  "orig_nbformat": 4
 },
 "nbformat": 4,
 "nbformat_minor": 2
}
